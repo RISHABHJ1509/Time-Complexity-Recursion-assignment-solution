{
 "cells": [
  {
   "cell_type": "code",
   "execution_count": null,
   "id": "2ec37c2a",
   "metadata": {},
   "outputs": [],
   "source": [
    "Problem 1 :\n",
    "def quicksort(arr):\n",
    "    if len(arr) <= 1:\n",
    "    return arr\n",
    "    pivot = arr[len(arr) // 2]\n",
    "    left = [x for x in arr if x < pivot]\n",
    "    middle = [x for x in arr if x == pivot]\n",
    "    right = [x for x in arr if x > pivot]\n",
    "    return quicksort(left) + middle + quicksort(right)\n",
    "\n",
    "#ans. its time complexity is O(N log(N))"
   ]
  },
  {
   "cell_type": "code",
   "execution_count": null,
   "id": "36175d58",
   "metadata": {},
   "outputs": [],
   "source": [
    "Problem 2 :\n",
    "    def nested_loop_example(matrix):\n",
    "    rows, cols = len(matrix), len(matrix[0])\n",
    "    total = 0\n",
    "    for i in range(rows):\n",
    "        for j in range(cols):\n",
    "            total += matrix[i][j]\n",
    "    return total\n",
    "\n",
    "#ans. its time complexity is O(N*2))"
   ]
  },
  {
   "cell_type": "code",
   "execution_count": null,
   "id": "148e6649",
   "metadata": {},
   "outputs": [],
   "source": [
    "Problem 3 :\n",
    "def example_function(arr):\n",
    "    result = 0\n",
    "    for element in arr:\n",
    "        result += element\n",
    "    return result\n",
    "\n",
    "#ans. its time complexity is O(N)"
   ]
  },
  {
   "cell_type": "code",
   "execution_count": null,
   "id": "f8c4780b",
   "metadata": {},
   "outputs": [],
   "source": [
    "Problem 4 :\n",
    "    def longest_increasing_subsequence(nums):\n",
    "    n = len(nums)\n",
    "    lis = [1] * n\n",
    "    for i in range(1, n):\n",
    "        for j in range(0, i):\n",
    "            if nums[i] > nums[j] and lis[i] < lis[j] + 1:\n",
    "                lis[i] = lis[j] + 1\n",
    "    return max(lis)\n",
    "\n",
    "#ans. its time complexity is O(N*2))"
   ]
  },
  {
   "cell_type": "code",
   "execution_count": null,
   "id": "529c8e3a",
   "metadata": {},
   "outputs": [],
   "source": [
    "Problem 5 :\n",
    "def mysterious_function(arr):\n",
    "    n = len(arr)\n",
    "    result = 0\n",
    "    for i in range(n):\n",
    "        for j in range(i, n):\n",
    "            result += arr[i] * arr[j]\n",
    "    return result\n",
    "\n",
    "#ans. its time complexity is O(N*2))"
   ]
  },
  {
   "cell_type": "code",
   "execution_count": 1,
   "id": "d6314237",
   "metadata": {},
   "outputs": [
    {
     "name": "stdout",
     "output_type": "stream",
     "text": [
      "6\n"
     ]
    }
   ],
   "source": [
    "'''Problem 6 : Sum of Digits\n",
    "Write a recursive function to calculate the sum of digits of a given positive integer.\n",
    "sum_of_digits(123) -> 6'''\n",
    "\n",
    "def sum_of_digits(n):\n",
    "    # Base case: if the number has only one digit, return that digit\n",
    "    if n < 10:\n",
    "        return n\n",
    "    # Recursive case: add the last digit to the sum of the rest of the digits\n",
    "    else:\n",
    "        return n % 10 + sum_of_digits(n // 10)\n",
    "\n",
    "\n",
    "print(sum_of_digits(123))  # Output: 6\n"
   ]
  },
  {
   "cell_type": "code",
   "execution_count": 5,
   "id": "7ff849fe",
   "metadata": {},
   "outputs": [
    {
     "name": "stdout",
     "output_type": "stream",
     "text": [
      "[0, 1, 1, 2, 3, 5]\n"
     ]
    }
   ],
   "source": [
    "'''Problem 7: Fibonacci Series\n",
    "Write a recursive function to generate the first n numbers of the Fibonacci series.\n",
    "fibonacci_series(6) -> [0, 1, 1, 2, 3, 5]'''\n",
    "\n",
    "def fibonacci_series(n):\n",
    "    if n <= 0:\n",
    "        return []\n",
    "    elif n == 1:\n",
    "        return [0]\n",
    "    elif n == 2:\n",
    "        return [0, 1]\n",
    "    else:\n",
    "        # Recursive case: generate the Fibonacci series up to n-1 and add the last two numbers to get the next one\n",
    "        fib_series = fibonacci_series(n - 1)\n",
    "        fib_series.append(fib_series[-1] + fib_series[-2])\n",
    "        return fib_series\n",
    "\n",
    "\n",
    "print(fibonacci_series(6))  # Output: [0, 1, 1, 2, 3, 5]\n"
   ]
  },
  {
   "cell_type": "code",
   "execution_count": 6,
   "id": "6c83e8ad",
   "metadata": {},
   "outputs": [
    {
     "name": "stdout",
     "output_type": "stream",
     "text": [
      "True\n"
     ]
    }
   ],
   "source": [
    "'''Problem 8 : Subset Sum\n",
    "Given a set of positive integers and a target sum, write a recursive function to determine if there exists a subset\n",
    "of the integers that adds up to the target sum.\n",
    "subset_sum([3, 34, 4, 12, 5, 2], 9) -> True'''\n",
    "\n",
    "def subset_sum(nums, target):\n",
    "    def subset_sum_recursive(nums, target, index):\n",
    "        # Base cases\n",
    "        if target == 0:\n",
    "            return True\n",
    "        if index == len(nums):\n",
    "            return False\n",
    "        \n",
    "        # Recursive cases\n",
    "        # Include the current number at index in the subset\n",
    "        if nums[index] <= target:\n",
    "            if subset_sum_recursive(nums, target - nums[index], index + 1):\n",
    "                return True\n",
    "        # Exclude the current number at index from the subset\n",
    "        return subset_sum_recursive(nums, target, index + 1)\n",
    "    \n",
    "    return subset_sum_recursive(nums, target, 0)\n",
    "\n",
    "\n",
    "print(subset_sum([3, 34, 4, 12, 5, 2], 9))\n"
   ]
  },
  {
   "cell_type": "code",
   "execution_count": 33,
   "id": "7511b5ab",
   "metadata": {},
   "outputs": [],
   "source": [
    "'''Problem 9: Word Break\n",
    "Given a non-empty string and a dictionary of words, write a recursive function to determine if the string can be\n",
    "segmented into a space-separated sequence of dictionary words.\n",
    "word_break( leetcode , [ leet , code ]) -> True'''\n",
    "\n",
    "def wordbreak(wordlist,word):\n",
    "    if word==\"\":\n",
    "        return True\n",
    "    else:\n",
    "        wordlen = len(word)\n",
    "        for i in range(1,wordlen + 1):\n",
    "            if word[:i] in wordlist and wordbreak(wordlist,word[i:]):\n",
    "                return True\n",
    "        return False"
   ]
  },
  {
   "cell_type": "code",
   "execution_count": 34,
   "id": "9226f045",
   "metadata": {},
   "outputs": [
    {
     "name": "stdout",
     "output_type": "stream",
     "text": [
      "True\n"
     ]
    }
   ],
   "source": [
    "print(wordbreak([\"leet\",\"code\"],\"leetcode\"))"
   ]
  },
  {
   "cell_type": "code",
   "execution_count": 36,
   "id": "08e267a4",
   "metadata": {},
   "outputs": [
    {
     "name": "stdout",
     "output_type": "stream",
     "text": [
      "False\n"
     ]
    }
   ],
   "source": [
    "print(wordbreak([\"rishabh\",\"sam\",\"sung\",\"ram\",\"ram\"],\"jaishreeram\"))"
   ]
  },
  {
   "cell_type": "code",
   "execution_count": 31,
   "id": "03fda920",
   "metadata": {},
   "outputs": [],
   "source": [
    "'''Problem 10 : N-Queens\n",
    "Implement a recursive function to solve the N Queens problem, where you have to place N queens on an N×N\n",
    "chessboard in such a way that no two queens threaten each other.\n",
    "n_queens(4)\n",
    "[\n",
    "[\".Q..\",\n",
    "\"...Q\",\n",
    "\"Q...\",\n",
    "\"..Q.\"],\n",
    "[\"..Q.\",\n",
    "\"Q...\",\n",
    "\"...Q\",\n",
    "\".Q..\"]\n",
    "]'''\n",
    "\n",
    "# N Queen Problem\n",
    "# Return True if it's safe to place queen on the board\n",
    "def isSafeToPlaceQueen(board , row , col , n):\n",
    "    # Check in the left side\n",
    "    for i in range(col):\n",
    "        if board[row][i]==1 :\n",
    "            return False\n",
    "\n",
    "    #Check in the upper left diagonal\n",
    "    for i, j in zip(range(row,-1,-1),range(col,-1,-1)):\n",
    "        if board[i][j] ==1:\n",
    "            return False\n",
    "\n",
    "    #Check in the lower left diagonal\n",
    "    for i,j in zip(range(row,n,1 ), range(col, -1,-1)):\n",
    "        if board[i][j]==1:\n",
    "            return False\n",
    "\n",
    "    return True\n",
    "\n",
    "\n",
    "def printBoard(board,n):\n",
    "    for i in range(n):\n",
    "        for j in range(n):\n",
    "            if board[i][j]==1 :\n",
    "                print(\"Q\",end=\" \")\n",
    "            else :\n",
    "                print(\".\",end=\" \")\n",
    "        print()\n",
    "\n",
    "def solveNQ(board,n):\n",
    "    if not solveNQUtil(board,0,n):\n",
    "        print(\"Solution doesn't exist\")\n",
    "        return\n",
    "\n",
    "    printBoard(board,n)\n",
    "\n",
    "# Should return True if we are able to place all the queens\n",
    "def solveNQUtil(board , col , n):\n",
    "    if(col >=n):#Base condition\n",
    "        return True  # Means we have bee able to put queens in all the columns\n",
    "\n",
    "    # Check for all the rows\n",
    "    for row in range(n) :\n",
    "        if isSafeToPlaceQueen(board,row,col, n) :\n",
    "            board[row][col]= 1 #Set the queen\n",
    "\n",
    "            #Recursively try for the next columns\n",
    "            if solveNQUtil(board,col+1,n):\n",
    "                return True\n",
    "            #Back Tracking\n",
    "            board[row][col]= 0 # Queen can't be set here\n",
    "\n",
    "    return False #Won't be able to place the queen\n",
    "\n",
    "\n"
   ]
  },
  {
   "cell_type": "code",
   "execution_count": 32,
   "id": "8e717c1a",
   "metadata": {},
   "outputs": [
    {
     "name": "stdout",
     "output_type": "stream",
     "text": [
      "Q . . . . . . . \n",
      ". . . . . . Q . \n",
      ". . . . Q . . . \n",
      ". . . . . . . Q \n",
      ". Q . . . . . . \n",
      ". . . Q . . . . \n",
      ". . . . . Q . . \n",
      ". . Q . . . . . \n"
     ]
    }
   ],
   "source": [
    "board8 = [[0,0,0,0,0,0,0,0],\n",
    "          [0,0,0,0,0,0,0,0],\n",
    "          [0,0,0,0,0,0,0,0],\n",
    "          [0,0,0,0,0,0,0,0],\n",
    "          [0,0,0,0,0,0,0,0],\n",
    "          [0,0,0,0,0,0,0,0],\n",
    "          [0,0,0,0,0,0,0,0],\n",
    "          [0,0,0,0,0,0,0,0]\n",
    "          ]\n",
    "solveNQ(board8,8)"
   ]
  },
  {
   "cell_type": "code",
   "execution_count": null,
   "id": "3492a093",
   "metadata": {},
   "outputs": [],
   "source": []
  }
 ],
 "metadata": {
  "kernelspec": {
   "display_name": "Python 3 (ipykernel)",
   "language": "python",
   "name": "python3"
  },
  "language_info": {
   "codemirror_mode": {
    "name": "ipython",
    "version": 3
   },
   "file_extension": ".py",
   "mimetype": "text/x-python",
   "name": "python",
   "nbconvert_exporter": "python",
   "pygments_lexer": "ipython3",
   "version": "3.11.4"
  }
 },
 "nbformat": 4,
 "nbformat_minor": 5
}
